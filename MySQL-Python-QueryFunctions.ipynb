{
 "cells": [
  {
   "cell_type": "code",
   "execution_count": 1,
   "id": "fe58551a",
   "metadata": {},
   "outputs": [],
   "source": [
    "# !pip install mysql-connector-python"
   ]
  },
  {
   "cell_type": "code",
   "execution_count": 2,
   "id": "46925722",
   "metadata": {},
   "outputs": [],
   "source": [
    "import mysql.connector as connector"
   ]
  },
  {
   "cell_type": "code",
   "execution_count": 3,
   "id": "4068c779",
   "metadata": {},
   "outputs": [],
   "source": [
    "# creating a connection to mysql little lemon database\n",
    "connection = connector.connect(user = \"project\", password = \"project\", database = \"littlelemondb\")"
   ]
  },
  {
   "cell_type": "code",
   "execution_count": 4,
   "id": "086855ff",
   "metadata": {},
   "outputs": [],
   "source": [
    "# creating the show tables query\n",
    "cursor = connection.cursor()\n",
    "\n",
    "show_tables_query = '''SHOW tables;''' \n",
    "cursor.execute(show_tables_query)"
   ]
  },
  {
   "cell_type": "code",
   "execution_count": 5,
   "id": "47f05a53",
   "metadata": {},
   "outputs": [
    {
     "name": "stdout",
     "output_type": "stream",
     "text": [
      "('bookings',)\n",
      "('customers',)\n",
      "('deliverystatus',)\n",
      "('employees',)\n",
      "('menuitems',)\n",
      "('orders',)\n"
     ]
    }
   ],
   "source": [
    "# displaying the tables\n",
    "for table in cursor:\n",
    "    print(table)"
   ]
  },
  {
   "cell_type": "code",
   "execution_count": 6,
   "id": "75bcf0ea",
   "metadata": {},
   "outputs": [],
   "source": [
    "# creating a query to find customers that have spent more than $60\n",
    "\n",
    "pay_query = ''' \n",
    "SELECT Customers.CustomerID, CONCAT(Customers.FirstName, \" \", Customers.LastName) AS FullName,\n",
    "Orders.BillAmount\n",
    "FROM customers\n",
    "JOIN Bookings ON Bookings.CustomerID = Customers.CustomerID\n",
    "JOIN Orders ON Orders.BookingID = Bookings.BookingID\n",
    "WHERE Orders.BillAmount >= 60;\n",
    "'''\n",
    "\n",
    "cursor.execute(pay_query)"
   ]
  },
  {
   "cell_type": "code",
   "execution_count": 7,
   "id": "47cef504",
   "metadata": {},
   "outputs": [
    {
     "name": "stdout",
     "output_type": "stream",
     "text": [
      "('CustomerID', 'FullName', 'BillAmount')\n",
      "   1      Anna Iversen      86.00\n"
     ]
    }
   ],
   "source": [
    "#displaying the result of the query\n",
    "print(cursor.column_names)\n",
    "\n",
    "for result in cursor.fetchall():\n",
    "    print('  ', result[0],'    ', result[1], '    ',result[2])"
   ]
  },
  {
   "cell_type": "code",
   "execution_count": null,
   "id": "6a6edc07",
   "metadata": {},
   "outputs": [],
   "source": []
  }
 ],
 "metadata": {
  "kernelspec": {
   "display_name": "Python 3 (ipykernel)",
   "language": "python",
   "name": "python3"
  },
  "language_info": {
   "codemirror_mode": {
    "name": "ipython",
    "version": 3
   },
   "file_extension": ".py",
   "mimetype": "text/x-python",
   "name": "python",
   "nbconvert_exporter": "python",
   "pygments_lexer": "ipython3",
   "version": "3.7.11"
  }
 },
 "nbformat": 4,
 "nbformat_minor": 5
}
